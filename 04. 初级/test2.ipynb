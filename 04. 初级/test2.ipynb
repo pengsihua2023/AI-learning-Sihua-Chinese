{
 "cells": [
  {
   "cell_type": "markdown",
   "metadata": {},
   "source": [
    "# 变分自编码器（Variational Autoencoder, VAE）介绍\n",
    "\n",
    "## 概述\n",
    "变分自编码器（VAE）是一种生成式深度学习模型，由Kingma和Welling于2013年提出。它是自编码器（Autoencoder）的变体，但引入了变分推断（Variational Inference）的思想，使其能够生成新数据，而不仅仅是压缩和重建输入。VAE的主要目的是学习数据的潜在表示（latent representation），并通过潜在空间的采样来生成类似于训练数据的样本。\n",
    "\n",
    "VAE的核心组件包括：\n",
    "- **编码器（Encoder）**：将输入数据x映射到潜在空间的分布参数（通常是高斯分布的均值μ和方差σ²）。\n",
    "- **采样（Sampling）**：从潜在分布中采样潜在变量z，使用重参数化技巧（reparameterization trick）使采样过程可微分。\n",
    "- **解码器（Decoder）**：从潜在变量z重建输出数据x'，目标是使x'尽可能接近x。\n",
    "- **损失函数**：结合重建损失（reconstruction loss，如MSE）和KL散度（Kullback-Leibler divergence），用于正则化潜在分布，使其接近先验分布（通常是标准正态分布）。\n",
    "\n",
    "VAE的优势在于它能生成连续的潜在空间，支持插值和生成新样本，常用于图像生成、数据增强等领域。相比GAN（生成对抗网络），VAE的训练更稳定，但生成的样本可能更模糊。\n",
    "\n",
    "## 数学描述\n",
    "VAE的目标是最大化数据的边际似然$p(x)$，但这通常难以直接计算。因此，使用证据下界（Evidence Lower Bound, ELBO）作为代理优化目标。假设：\n",
    "- 先验分布：$p(z) = N(0, I)$（标准正态分布）。\n",
    "- 后验近似：$q(z|x) = N(\\mu, \\sigma^2I)$，由编码器参数化，其中$\\mu$和$\\sigma$由神经网络从x中计算得出。\n",
    "- 生成模型：$p(x|z)$，由解码器参数化，通常假设$p(x|z) = N(\\text{解码器输出}, I)$ 或 Bernoulli分布（针对二值数据）。\n",
    "\n",
    "ELBO的数学形式为：\n",
    "\n",
    "$$\n",
    "\\mathcal{L}(\\theta, \\phi; x) = \\mathbb{E}_{q_\\phi(z|x)} [\\log p_\\theta(x|z)] - D_{KL}(q_\\phi(z|x) \\| p(z))\n",
    "$$\n",
    "\n",
    "其中：\n",
    "- $\\theta$是解码器参数，$\\phi$是编码器参数。\n",
    "- 第一项是重建损失：衡量从z重建x的准确性，通常用负对数似然实现（如MSE for连续数据：$\\|x - \\hat{x}\\|^2 / 2$）。\n",
    "- 第二项是KL散度：正则化$q(z|x)$接近$p(z)$，计算公式为（假设高斯分布）：\n",
    "\n",
    "$$\n",
    "D_{KL}(q(z|x) \\| p(z)) = -\\frac{1}{2} \\sum_{j=1}^J (1 + \\log(\\sigma_j^2) - \\mu_j^2 - \\sigma_j^2)\n",
    "$$\n",
    "\n",
    "其中$J$是潜在空间维度。\n",
    "\n",
    "为了使梯度传播，重参数化技巧：$z = \\mu + \\sigma \\odot \\epsilon$，其中$\\epsilon \\sim N(0, I)$。\n",
    "\n",
    "优化过程：通过随机梯度下降最大化ELBO（等价于最小化负ELBO）。"
   ]
  },
  {
   "cell_type": "markdown",
   "metadata": {},
   "source": [
    "## 代码实现\n",
    "以下是一个最简单的VAE实现，使用PyTorch，针对MNIST数据集（28x28灰度图像）。它使用简单的多层感知机（MLP）作为编码器和解码器，潜在维度为2（便于可视化）。代码包括模型定义、损失函数和训练循环的框架。\n",
    "\n",
    "运行此代码需要安装PyTorch和torchvision（`pip install torch torchvision`）。"
   ]
  },
  {
   "cell_type": "code",
   "execution_count": null,
   "metadata": {},
   "outputs": [],
   "source": [
    "import torch\n",
    "import torch.nn as nn\n",
    "import torch.optim as optim\n",
    "from torch.utils.data import DataLoader\n",
    "from torchvision import datasets, transforms\n",
    "\n",
    "# 设置超参数\n",
    "input_dim = 28 * 28  # MNIST图像大小\n",
    "hidden_dim = 400\n",
    "latent_dim = 2  # 潜在空间维度\n",
    "batch_size = 128\n",
    "epochs = 10\n",
    "lr = 1e-3\n",
    "\n",
    "# 数据加载\n",
    "transform = transforms.Compose([transforms.ToTensor(), transforms.Lambda(lambda x: x.view(-1))])\n",
    "train_dataset = datasets.MNIST(root='./data', train=True, transform=transform, download=True)\n",
    "train_loader = DataLoader(train_dataset, batch_size=batch_size, shuffle=True)"
  
    "class VAE(nn.Module):\n",
    "    def __init__(self):\n",
    "        super(VAE, self).__init__()\n",
    "        # 编码器\n",
    "        self.fc1 = nn.Linear(input_dim, hidden_dim)\n",
    "        self.fc_mu = nn.Linear(hidden_dim, latent_dim)\n",
    "        self.fc_logvar = nn.Linear(hidden_dim, latent_dim)\n",
    "        # 解码器\n",
    "        self.fc3 = nn.Linear(latent_dim, hidden_dim)\n",
    "        self.fc4 = nn.Linear(hidden_dim, input_dim)\n",
    "\n",
    "    def encode(self, x):\n",
    "        h = torch.relu(self.fc1(x))\n",
    "        mu = self.fc_mu(h)\n",
    "        logvar = self.fc_logvar(h)\n",
    "        return mu, logvar\n",
    "\n",
    "    def reparameterize(self, mu, logvar):\n",
    "        std = torch.exp(0.5 * logvar)\n",
    "        eps = torch.randn_like(std)\n",
    "        return mu + eps * std\n",
    "\n",
    "    def decode(self, z):\n",
    "        h = torch.relu(self.fc3(z))\n",
    "        return torch.sigmoid(self.fc4(h))  # 输出在[0,1]间，适合MNIST\n",
    "\n",
    "    def forward(self, x):\n",
    "        mu, logvar = self.encode(x)\n",
    "        z = self.reparameterize(mu, logvar)\n",
    "        return self.decode(z), mu, logvar"
   ]
  },
  {
   "cell_type": "markdown",
   "metadata": {},
   "source": [
    "## 损失函数\n",
    "损失函数包括重建损失（二元交叉熵）和KL散度。"
   ]
  },
  {
   "cell_type": "code",
   "execution_count": null,
   "metadata": {},
   "outputs": [],
   "source": [
    "def loss_function(recon_x, x, mu, logvar):\n",
    "    BCE = nn.functional.binary_cross_entropy(recon_x, x, reduction='sum')  # 重建损失\n",
    "    KLD = -0.5 * torch.sum(1 + logvar - mu.pow(2) - logvar.exp())  # KL散度\n",
    "    return BCE + KLD"
   ]
  },
  {
   "cell_type": "markdown",
   "metadata": {},
   "source": [
    "## 训练循环\n",
    "训练VAE模型，优化ELBO损失。"
   ]
  },
  {
   "cell_type": "code",
   "execution_count": null,
   "metadata": {},
   "outputs": [],
   "source": [
    "model = VAE()\n",
    "optimizer = optim.Adam(model.parameters(), lr=lr)\n",
    "\n",
    "for epoch in range(epochs):\n",
    "    model.train()\n",
    "    train_loss = 0\n",
    "    for batch_idx, (data, _) in enumerate(train_loader):\n",
    "        optimizer.zero_grad()\n",
    "        recon_batch, mu, logvar = model(data)\n",
    "        loss = loss_function(recon_batch, data, mu, logvar)\n",
    "        loss.backward()\n",
    "        train_loss += loss.item()\n",
    "        optimizer.step()\n",
    "    print(f'Epoch {epoch+1}, Loss: {train_loss / len(train_loader.dataset):.4f}')"
   ]
  },
  {
   "cell_type": "markdown",
   "metadata": {},
   "source": [
    "## 生成样本\n",
    "训练完成后，从潜在空间采样生成新图像。"
   ]
  },
  {
   "cell_type": "code",
   "execution_count": null,
   "metadata": {},
   "outputs": [],
   "source": [
    "with torch.no_grad():\n",
    "    z = torch.randn(64, latent_dim)  # 随机采样\n",
    "    samples = model.decode(z).view(64, 1, 28, 28)\n",
    "    # 可以用以下代码保存生成图像（需取消注释）\n",
    "    # from torchvision.utils import save_image\n",
    "    # save_image(samples, 'samples.png')"
   ]
  },
  {
   "cell_type": "markdown",
   "metadata": {},
   "source": [
    "## 说明\n",
    "- **代码结构**：此代码是最简化实现，适合理解VAE原理。使用多层感知机（MLP）作为编码器和解码器，针对MNIST数据集（28x28灰度图像）。\n",
    "- **运行环境**：需要PyTorch和torchvision库。确保有GPU支持以加速训练（代码会自动检测设备）。\n",
    "- **扩展**：实际应用中，可以使用卷积神经网络（CNN）替换MLP，增加潜在维度，或调整超参数以提高性能。\n",
    "- **生成样本**：训练后，取消注释`save_image`部分可保存生成的MNIST图像样本。"
   ]
  }
 ],
 "metadata": {
  "kernelspec": {
   "display_name": "Python 3",
   "language": "python",
   "name": "python3"
  },
  "language_info": {
   "codemirror_mode": {
    "name": "ipython",
    "version": 3
   },
   "file_extension": ".py",
   "mimetype": "text/x-python",
   "name": "python",
   "nbconvert_exporter": "python",
   "pygments_lexer": "ipython3",
   "version": "3.8.0"
  }
 },
 "nbformat": 4,
 "nbformat_minor": 4
}
